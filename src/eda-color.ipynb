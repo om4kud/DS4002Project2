{
 "cells": [
  {
   "cell_type": "code",
   "execution_count": null,
   "source": [
    "import matplotlib.pyplot as plt\n",
    "import numpy as np"
   ],
   "outputs": [],
   "metadata": {}
  },
  {
   "cell_type": "code",
   "execution_count": null,
   "source": [
    "# Initialize empty lists to store gray levels\n",
    "gray_levels = []\n",
    "\n",
    "\n",
    "# Read data from the text file and extract gray levels\n",
    "with open('dataset/IAM Dataset/words_new.txt', 'r') as file:\n",
    "    for line in file:\n",
    "        # Skip lines that don't contain gray levels (lines starting with '#')\n",
    "        if line.startswith('#'):\n",
    "            continue\n",
    "        # Split the line into words and extract the gray level\n",
    "        words = line.split()\n",
    "        if len(words) >= 3:\n",
    "            try:\n",
    "                gray_level = int(words[2])\n",
    "                gray_levels.append(gray_level)\n",
    "            except ValueError:\n",
    "                pass # Ignore lines that don't have a valid gray level\n",
    "\n",
    "\n",
    "# Create a histogram of gray levels\n",
    "plt.hist(gray_levels, bins=50, color='blue', alpha=0.7, rwidth=0.8, edgecolor='black')\n",
    "plt.xlabel('Gray Level')\n",
    "plt.ylabel('Frequency')\n",
    "plt.title('Gray Level Analysis')\n",
    "plt.grid(True)\n",
    "\n",
    "plt.show()"
   ],
   "outputs": [],
   "metadata": {}
  }
 ],
 "metadata": {
  "orig_nbformat": 4,
  "language_info": {
   "name": "python"
  }
 },
 "nbformat": 4,
 "nbformat_minor": 2
}